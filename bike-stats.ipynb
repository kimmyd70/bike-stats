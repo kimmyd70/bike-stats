{
 "metadata": {
  "language_info": {
   "codemirror_mode": {
    "name": "ipython",
    "version": 3
   },
   "file_extension": ".py",
   "mimetype": "text/x-python",
   "name": "python",
   "nbconvert_exporter": "python",
   "pygments_lexer": "ipython3",
   "version": "3.9.1-final"
  },
  "orig_nbformat": 2,
  "kernelspec": {
   "name": "python3",
   "display_name": "Python 3.9.1 64-bit ('.venv')",
   "metadata": {
    "interpreter": {
     "hash": "0d8dbb5955011fe1c4ecc71ef63ca905d47271e3587f0e8da673b5a1c50b4d64"
    }
   }
  }
 },
 "nbformat": 4,
 "nbformat_minor": 2,
 "cells": [
  {
   "source": [
    "## Data Analysis with Pandas; seattle-401pyn2\n",
    "### Video Game Sales\n",
    "- Kim Damalas, 20 Jan 2021\n",
    "- using stats from [Kaggle](https://www.kaggle.com/pronto/cycle-share-dataset): station.csv"
   ],
   "cell_type": "markdown",
   "metadata": {}
  },
  {
   "cell_type": "code",
   "execution_count": 7,
   "metadata": {},
   "outputs": [],
   "source": [
    "import numpy as np\n",
    "import pandas as pd"
   ]
  },
  {
   "cell_type": "code",
   "execution_count": 49,
   "metadata": {},
   "outputs": [
    {
     "output_type": "stream",
     "name": "stderr",
     "text": [
      "b'Skipping line 50794: expected 12 fields, saw 20\\n'\n"
     ]
    }
   ],
   "source": [
    "df = pd.read_csv(\"./trip.csv\",error_bad_lines=False)\n",
    "dfs = pd.read_csv(\"./station.csv\")\n",
    "dfw = pd.read_csv(\"./station.csv\")"
   ]
  },
  {
   "source": [
    "1. What is the average trip duration for a borrowed bicycle?"
   ],
   "cell_type": "markdown",
   "metadata": {}
  },
  {
   "cell_type": "code",
   "execution_count": 29,
   "metadata": {},
   "outputs": [
    {
     "output_type": "stream",
     "name": "stdout",
     "text": [
      "Average trip duration rounded to the nearest minute: 20.0\n"
     ]
    }
   ],
   "source": [
    "avg_duration = (df[\"tripduration\"].mean()/60).round(decimals = 0)\n",
    "print(f'Average trip duration rounded to the nearest minute: {avg_duration}')"
   ]
  },
  {
   "source": [
    "2. What’s the most common age of a bicycle-sharer?"
   ],
   "cell_type": "markdown",
   "metadata": {}
  },
  {
   "cell_type": "code",
   "execution_count": 48,
   "metadata": {},
   "outputs": [
    {
     "output_type": "stream",
     "name": "stdout",
     "text": [
      "34 years old\n"
     ]
    }
   ],
   "source": [
    "year = int(df[\"birthyear\"].mode())\n",
    "age = 2021 - year\n",
    "#print(year)\n",
    "print(f'{age} years old')"
   ]
  },
  {
   "source": [
    "3. Given all the weather data here, find the average precipitation per month"
   ],
   "cell_type": "markdown",
   "metadata": {}
  },
  {
   "cell_type": "code",
   "execution_count": null,
   "metadata": {},
   "outputs": [],
   "source": []
  },
  {
   "cell_type": "code",
   "execution_count": null,
   "metadata": {},
   "outputs": [],
   "source": [
    "-  and the median precipitation."
   ]
  },
  {
   "cell_type": "code",
   "execution_count": null,
   "metadata": {},
   "outputs": [],
   "source": []
  },
  {
   "source": [
    "4. What’s the average number of bikes at a given bike station?"
   ],
   "cell_type": "markdown",
   "metadata": {}
  },
  {
   "cell_type": "code",
   "execution_count": null,
   "metadata": {},
   "outputs": [],
   "source": []
  },
  {
   "source": [
    "5. When a bike station is modified, is it more likely that it’ll lose bikes or gain bikes? How do you know?"
   ],
   "cell_type": "markdown",
   "metadata": {}
  },
  {
   "cell_type": "code",
   "execution_count": null,
   "metadata": {},
   "outputs": [],
   "source": []
  },
  {
   "source": [
    "6.  What is the closest station to 801 Pine St?(developer question)"
   ],
   "cell_type": "markdown",
   "metadata": {}
  },
  {
   "cell_type": "code",
   "execution_count": null,
   "metadata": {},
   "outputs": [],
   "source": []
  },
  {
   "source": [
    "7. Which bike ID is checked out the most? (developer question)"
   ],
   "cell_type": "markdown",
   "metadata": {}
  },
  {
   "cell_type": "code",
   "execution_count": null,
   "metadata": {},
   "outputs": [],
   "source": []
  },
  {
   "source": [
    "8. What percentage of users are Members?  (developer question)"
   ],
   "cell_type": "markdown",
   "metadata": {}
  },
  {
   "cell_type": "code",
   "execution_count": null,
   "metadata": {},
   "outputs": [],
   "source": []
  },
  {
   "cell_type": "code",
   "execution_count": null,
   "metadata": {},
   "outputs": [],
   "source": [
    "Column Headings: \"trip_id\",\"starttime\",\"stoptime\",\"bikeid\",\"tripduration\",\"from_station_name\",\"to_station_name\",\"from_station_id\",\"to_station_id\",\"usertype\",\"gender\",\"birthyear\"\n"
   ]
  },
  {
   "cell_type": "code",
   "execution_count": null,
   "metadata": {},
   "outputs": [],
   "source": [
    "Column Headings: \"Date\",\"Max_Temperature_F\",\"Mean_Temperature_F\",\"Min_TemperatureF\",\"Max_Dew_Point_F\",\"MeanDew_Point_F\",\"Min_Dewpoint_F\",\"Max_Humidity\",\"Mean_Humidity\",\"Min_Humidity\",\"Max_Sea_Level_Pressure_In\",\"Mean_Sea_Level_Pressure_In\",\"Min_Sea_Level_Pressure_In\",\"Max_Visibility_Miles\",\"Mean_Visibility_Miles\",\"Min_Visibility_Miles\",\"Max_Wind_Speed_MPH\",\"Mean_Wind_Speed_MPH\",\"Max_Gust_Speed_MPH\",\"Precipitation_In\",\"Events\"\n"
   ]
  },
  {
   "cell_type": "code",
   "execution_count": null,
   "metadata": {},
   "outputs": [],
   "source": [
    "Column Headings:\n",
    "\"station_id\",\"name\",\"lat\",\"long\",\"install_date\",\"install_dockcount\",\"modification_date\",\"current_dockcount\",\"decommission_date\"\n"
   ]
  }
 ]
}