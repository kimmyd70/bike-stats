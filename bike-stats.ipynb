{
 "metadata": {
  "language_info": {
   "codemirror_mode": {
    "name": "ipython",
    "version": 3
   },
   "file_extension": ".py",
   "mimetype": "text/x-python",
   "name": "python",
   "nbconvert_exporter": "python",
   "pygments_lexer": "ipython3",
   "version": "3.9.1-final"
  },
  "orig_nbformat": 2,
  "kernelspec": {
   "name": "python3",
   "display_name": "Python 3.9.1 64-bit ('.venv')",
   "metadata": {
    "interpreter": {
     "hash": "0d8dbb5955011fe1c4ecc71ef63ca905d47271e3587f0e8da673b5a1c50b4d64"
    }
   }
  }
 },
 "nbformat": 4,
 "nbformat_minor": 2,
 "cells": [
  {
   "source": [
    "## Data Analysis with Pandas; seattle-401pyn2\n",
    "### Bike Share Stats for Seattle\n",
    "- Kim Damalas, 20 Jan 2021\n",
    "- using stats from [Kaggle](https://www.kaggle.com/pronto/cycle-share-dataset): station.csv, trip.csv, and weather.csv"
   ],
   "cell_type": "markdown",
   "metadata": {}
  },
  {
   "cell_type": "code",
   "execution_count": 7,
   "metadata": {},
   "outputs": [],
   "source": [
    "import numpy as np\n",
    "import pandas as pd"
   ]
  },
  {
   "cell_type": "code",
   "execution_count": 54,
   "metadata": {},
   "outputs": [
    {
     "output_type": "stream",
     "name": "stderr",
     "text": [
      "b'Skipping line 50794: expected 12 fields, saw 20\\n'\n"
     ]
    }
   ],
   "source": [
    "df = pd.read_csv(\"./trip.csv\",error_bad_lines=False)\n",
    "dfs = pd.read_csv(\"./station.csv\")\n",
    "dfw = pd.read_csv(\"./weather.csv\")"
   ]
  },
  {
   "source": [
    "1. What is the average trip duration for a borrowed bicycle?"
   ],
   "cell_type": "markdown",
   "metadata": {}
  },
  {
   "cell_type": "code",
   "execution_count": 101,
   "metadata": {},
   "outputs": [
    {
     "output_type": "stream",
     "name": "stdout",
     "text": [
      " Average trip duration rounded to the nearest minute: 20.0\n"
     ]
    }
   ],
   "source": [
    "# Good Output\n",
    "avg_duration = (df[\"tripduration\"].mean()/60).round(decimals = 0)\n",
    "print(f' Average trip duration rounded to the nearest minute: {avg_duration}')\n"
   ]
  },
  {
   "source": [
    "2. What’s the most common age of a bicycle-sharer?"
   ],
   "cell_type": "markdown",
   "metadata": {}
  },
  {
   "cell_type": "code",
   "execution_count": 48,
   "metadata": {},
   "outputs": [
    {
     "output_type": "stream",
     "name": "stdout",
     "text": [
      "34 years old\n"
     ]
    }
   ],
   "source": [
    "# Good Output\n",
    "year = int(df[\"birthyear\"].mode())\n",
    "age = 2021 - year\n",
    "print(f'{age} years old')"
   ]
  },
  {
   "source": [
    "3. Given all the weather data here, find the average precipitation per month (note: partial stats for 10/14, ends 9/1/16)"
   ],
   "cell_type": "markdown",
   "metadata": {}
  },
  {
   "cell_type": "code",
   "execution_count": null,
   "metadata": {},
   "outputs": [],
   "source": [
    "# Has Problems\n",
    "print(f'average precipitation per month (in inches)')"
   ]
  },
  {
   "cell_type": "code",
   "execution_count": null,
   "metadata": {},
   "outputs": [],
   "source": [
    "-  and the median precipitation."
   ]
  },
  {
   "cell_type": "code",
   "execution_count": 102,
   "metadata": {},
   "outputs": [
    {
     "output_type": "stream",
     "name": "stdout",
     "text": [
      "The median precipitation for \"always rainy\" Seattle is: 0.0 inches\n"
     ]
    }
   ],
   "source": [
    "# Good Output\n",
    "precip_med = dfw[\"Precipitation_In\"].median()\n",
    "print(f'The median precipitation for \"always rainy\" Seattle is: {precip_med} inches')"
   ]
  },
  {
   "source": [
    "4. What’s the average number of bikes at a given bike station?"
   ],
   "cell_type": "markdown",
   "metadata": {}
  },
  {
   "cell_type": "code",
   "execution_count": 69,
   "metadata": {},
   "outputs": [
    {
     "output_type": "stream",
     "name": "stdout",
     "text": [
      "17 bikes (rounded)\n"
     ]
    }
   ],
   "source": [
    "# Good Output\n",
    "# 58 stations\n",
    "avg_num_bikes_at_station = dfs[\"current_dockcount\"].mean().round(decimals = 0)\n",
    "print(f'{int(avg_num_bikes_at_station)} bikes (rounded)')"
   ]
  },
  {
   "source": [
    "5. When a bike station is modified, is it more likely that it’ll lose bikes or gain bikes? How do you know?"
   ],
   "cell_type": "markdown",
   "metadata": {}
  },
  {
   "cell_type": "code",
   "execution_count": null,
   "metadata": {},
   "outputs": [],
   "source": []
  },
  {
   "source": [
    "6.  Which stations are close to 801 Pine St?(developer question)"
   ],
   "cell_type": "markdown",
   "metadata": {}
  },
  {
   "cell_type": "code",
   "execution_count": 106,
   "metadata": {},
   "outputs": [
    {
     "output_type": "stream",
     "name": "stdout",
     "text": [
      "\n"
     ]
    }
   ],
   "source": [
    "# Has Problems\n",
    "# (47.612980, -122.332610)\n",
    "close_station = \"\"\n",
    "if \"8th\" in dfs[\"name\"] or \"Pine\" in dfs[\"name\"]:\n",
    "    close_station = \"name\" \n",
    "print(close_station)"
   ]
  },
  {
   "source": [
    "7. What is the busiest starting location? (developer question)"
   ],
   "cell_type": "markdown",
   "metadata": {}
  },
  {
   "cell_type": "code",
   "execution_count": 78,
   "metadata": {},
   "outputs": [
    {
     "output_type": "stream",
     "name": "stdout",
     "text": [
      "Pier 69 / Alaskan Way & Clay St\n"
     ]
    }
   ],
   "source": [
    "# Good Output\n",
    "# 493 unique ID values\n",
    "most_common_checkout_station = df[\"from_station_name\"].mode()\n",
    "print(f'{most_common_checkout_station.values[0]}')\n"
   ]
  },
  {
   "source": [
    "8. How many days of rain did Seattle see 2014-2016?  (developer question)"
   ],
   "cell_type": "markdown",
   "metadata": {}
  },
  {
   "cell_type": "code",
   "execution_count": 103,
   "metadata": {},
   "outputs": [
    {
     "output_type": "error",
     "ename": "ValueError",
     "evalue": "The truth value of a Series is ambiguous. Use a.empty, a.bool(), a.item(), a.any() or a.all().",
     "traceback": [
      "\u001b[0;31m---------------------------------------------------------------------------\u001b[0m",
      "\u001b[0;31mValueError\u001b[0m                                Traceback (most recent call last)",
      "\u001b[0;32m<ipython-input-103-a200543e96ce>\u001b[0m in \u001b[0;36m<module>\u001b[0;34m\u001b[0m\n\u001b[1;32m      1\u001b[0m \u001b[0mrain_days\u001b[0m \u001b[0;34m=\u001b[0m \u001b[0mdfw\u001b[0m\u001b[0;34m[\u001b[0m\u001b[0;34m\"Events\"\u001b[0m\u001b[0;34m]\u001b[0m\u001b[0;34m\u001b[0m\u001b[0;34m\u001b[0m\u001b[0m\n\u001b[0;32m----> 2\u001b[0;31m \u001b[0;32mif\u001b[0m \u001b[0mrain_days\u001b[0m \u001b[0;34m==\u001b[0m \u001b[0;34m\"Rain\"\u001b[0m\u001b[0;34m:\u001b[0m\u001b[0;34m\u001b[0m\u001b[0;34m\u001b[0m\u001b[0m\n\u001b[0m\u001b[1;32m      3\u001b[0m     \u001b[0mcount\u001b[0m \u001b[0;34m+=\u001b[0m\u001b[0;36m1\u001b[0m\u001b[0;34m\u001b[0m\u001b[0;34m\u001b[0m\u001b[0m\n\u001b[1;32m      4\u001b[0m \u001b[0mprint\u001b[0m\u001b[0;34m(\u001b[0m\u001b[0;34mf'{count} days'\u001b[0m\u001b[0;34m)\u001b[0m\u001b[0;34m\u001b[0m\u001b[0;34m\u001b[0m\u001b[0m\n",
      "\u001b[0;32m~/codefellows/401/bike-stats/.venv/lib/python3.9/site-packages/pandas/core/generic.py\u001b[0m in \u001b[0;36m__nonzero__\u001b[0;34m(self)\u001b[0m\n\u001b[1;32m   1439\u001b[0m     \u001b[0;34m@\u001b[0m\u001b[0mfinal\u001b[0m\u001b[0;34m\u001b[0m\u001b[0;34m\u001b[0m\u001b[0m\n\u001b[1;32m   1440\u001b[0m     \u001b[0;32mdef\u001b[0m \u001b[0m__nonzero__\u001b[0m\u001b[0;34m(\u001b[0m\u001b[0mself\u001b[0m\u001b[0;34m)\u001b[0m\u001b[0;34m:\u001b[0m\u001b[0;34m\u001b[0m\u001b[0;34m\u001b[0m\u001b[0m\n\u001b[0;32m-> 1441\u001b[0;31m         raise ValueError(\n\u001b[0m\u001b[1;32m   1442\u001b[0m             \u001b[0;34mf\"The truth value of a {type(self).__name__} is ambiguous. \"\u001b[0m\u001b[0;34m\u001b[0m\u001b[0;34m\u001b[0m\u001b[0m\n\u001b[1;32m   1443\u001b[0m             \u001b[0;34m\"Use a.empty, a.bool(), a.item(), a.any() or a.all().\"\u001b[0m\u001b[0;34m\u001b[0m\u001b[0;34m\u001b[0m\u001b[0m\n",
      "\u001b[0;31mValueError\u001b[0m: The truth value of a Series is ambiguous. Use a.empty, a.bool(), a.item(), a.any() or a.all()."
     ]
    }
   ],
   "source": [
    "# Has Problems\n",
    "rain_days = dfw[\"Events\"]\n",
    "if rain_days == \"Rain\":\n",
    "    count +=1\n",
    "print(f'{count} days')"
   ]
  },
  {
   "cell_type": "code",
   "execution_count": null,
   "metadata": {},
   "outputs": [],
   "source": [
    "Column Headings: \"trip_id\",\"starttime\",\"stoptime\",\"bikeid\",\"tripduration\",\"from_station_name\",\"to_station_name\",\"from_station_id\",\"to_station_id\",\"usertype\",\"gender\",\"birthyear\"\n"
   ]
  },
  {
   "cell_type": "code",
   "execution_count": null,
   "metadata": {},
   "outputs": [],
   "source": [
    "Column Headings: \"Date\",\"Max_Temperature_F\",\"Mean_Temperature_F\",\"Min_TemperatureF\",\"Max_Dew_Point_F\",\"MeanDew_Point_F\",\"Min_Dewpoint_F\",\"Max_Humidity\",\"Mean_Humidity\",\"Min_Humidity\",\"Max_Sea_Level_Pressure_In\",\"Mean_Sea_Level_Pressure_In\",\"Min_Sea_Level_Pressure_In\",\"Max_Visibility_Miles\",\"Mean_Visibility_Miles\",\"Min_Visibility_Miles\",\"Max_Wind_Speed_MPH\",\"Mean_Wind_Speed_MPH\",\"Max_Gust_Speed_MPH\",\"Precipitation_In\",\"Events\"\n"
   ]
  },
  {
   "cell_type": "code",
   "execution_count": null,
   "metadata": {},
   "outputs": [],
   "source": [
    "Column Headings:\n",
    "\"station_id\",\"name\",\"lat\",\"long\",\"install_date\",\"install_dockcount\",\"modification_date\",\"current_dockcount\",\"decommission_date\"\n"
   ]
  }
 ]
}