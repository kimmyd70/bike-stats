{
 "metadata": {
  "language_info": {
   "codemirror_mode": {
    "name": "ipython",
    "version": 3
   },
   "file_extension": ".py",
   "mimetype": "text/x-python",
   "name": "python",
   "nbconvert_exporter": "python",
   "pygments_lexer": "ipython3",
   "version": "3.9.1-final"
  },
  "orig_nbformat": 2,
  "kernelspec": {
   "name": "python3",
   "display_name": "Python 3.9.1 64-bit ('.venv')",
   "metadata": {
    "interpreter": {
     "hash": "0d8dbb5955011fe1c4ecc71ef63ca905d47271e3587f0e8da673b5a1c50b4d64"
    }
   }
  }
 },
 "nbformat": 4,
 "nbformat_minor": 2,
 "cells": [
  {
   "source": [
    "## Data Analysis with Pandas; seattle-401pyn2\n",
    "### Bike Share Stats for Seattle\n",
    "- Kim Damalas, 20 Jan 2021\n",
    "- using stats from [Kaggle](https://www.kaggle.com/pronto/cycle-share-dataset): station.csv, trip.csv, and weather.csv"
   ],
   "cell_type": "markdown",
   "metadata": {}
  },
  {
   "cell_type": "code",
   "execution_count": 108,
   "metadata": {},
   "outputs": [],
   "source": [
    "import numpy as np\n",
    "import pandas as pd"
   ]
  },
  {
   "cell_type": "code",
   "execution_count": 109,
   "metadata": {},
   "outputs": [
    {
     "output_type": "stream",
     "name": "stderr",
     "text": [
      "b'Skipping line 50794: expected 12 fields, saw 20\\n'\n"
     ]
    }
   ],
   "source": [
    "df = pd.read_csv(\"./trip.csv\",error_bad_lines=False)\n",
    "dfs = pd.read_csv(\"./station.csv\")\n",
    "dfw = pd.read_csv(\"./weather.csv\")"
   ]
  },
  {
   "source": [
    "1. What is the average trip duration for a borrowed bicycle?"
   ],
   "cell_type": "markdown",
   "metadata": {}
  },
  {
   "cell_type": "code",
   "execution_count": 110,
   "metadata": {},
   "outputs": [
    {
     "output_type": "stream",
     "name": "stdout",
     "text": [
      " Average trip duration rounded to the nearest minute: 20.0\n"
     ]
    }
   ],
   "source": [
    "# Good Output\n",
    "avg_duration = (df[\"tripduration\"].mean()/60).round(decimals = 0)\n",
    "print(f' Average trip duration rounded to the nearest minute: {avg_duration}')\n"
   ]
  },
  {
   "source": [
    "2. What’s the most common age of a bicycle-sharer?"
   ],
   "cell_type": "markdown",
   "metadata": {}
  },
  {
   "cell_type": "code",
   "execution_count": 111,
   "metadata": {},
   "outputs": [
    {
     "output_type": "stream",
     "name": "stdout",
     "text": [
      "34 years old\n"
     ]
    }
   ],
   "source": [
    "# Good Output\n",
    "year = int(df[\"birthyear\"].mode())\n",
    "age = 2021 - year\n",
    "print(f'{age} years old')"
   ]
  },
  {
   "source": [
    "3. Given all the weather data here, find the average precipitation per month (note: partial stats for 10/14, ends 9/1/16)"
   ],
   "cell_type": "markdown",
   "metadata": {}
  },
  {
   "cell_type": "code",
   "execution_count": null,
   "metadata": {},
   "outputs": [],
   "source": [
    "# Not done yet\n",
    "print(f'average precipitation per month (in inches)')"
   ]
  },
  {
   "source": [
    "-  and the median precipitation."
   ],
   "cell_type": "markdown",
   "metadata": {}
  },
  {
   "cell_type": "code",
   "execution_count": 114,
   "metadata": {},
   "outputs": [
    {
     "output_type": "stream",
     "name": "stdout",
     "text": [
      "The median precipitation for \"always rainy\" Seattle is: 0.0 inches\n"
     ]
    }
   ],
   "source": [
    "# Good Output\n",
    "precip_med = dfw[\"Precipitation_In\"].median()\n",
    "print(f'The median precipitation for \"always rainy\" Seattle is: {precip_med} inches')"
   ]
  },
  {
   "source": [
    "4. What’s the average number of bikes at a given bike station?"
   ],
   "cell_type": "markdown",
   "metadata": {}
  },
  {
   "cell_type": "code",
   "execution_count": 115,
   "metadata": {},
   "outputs": [
    {
     "output_type": "stream",
     "name": "stdout",
     "text": [
      "17 bikes (rounded)\n"
     ]
    }
   ],
   "source": [
    "# Good Output\n",
    "# 58 stations\n",
    "avg_num_bikes_at_station = dfs[\"current_dockcount\"].mean().round(decimals = 0)\n",
    "print(f'{int(avg_num_bikes_at_station)} bikes (rounded)')"
   ]
  },
  {
   "source": [
    "5. When a bike station is modified, is it more likely that it’ll lose bikes or gain bikes? How do you know?"
   ],
   "cell_type": "markdown",
   "metadata": {}
  },
  {
   "cell_type": "code",
   "execution_count": null,
   "metadata": {},
   "outputs": [],
   "source": [
    "# Not done yet"
   ]
  },
  {
   "source": [
    "6.  Which stations are close to 801 Pine St?(developer question)"
   ],
   "cell_type": "markdown",
   "metadata": {}
  },
  {
   "cell_type": "code",
   "execution_count": null,
   "metadata": {},
   "outputs": [],
   "source": [
    "# Not done yet\n",
    "# (47.612980, -122.332610)\n",
    "close_station = \"\"\n",
    "if \"8th\" in dfs[\"name\"] or \"Pine\" in dfs[\"name\"]:\n",
    "    close_station = \"name\" \n",
    "print(close_station)"
   ]
  },
  {
   "source": [
    "7. What is the busiest starting location? (developer question)"
   ],
   "cell_type": "markdown",
   "metadata": {}
  },
  {
   "cell_type": "code",
   "execution_count": 116,
   "metadata": {},
   "outputs": [
    {
     "output_type": "stream",
     "name": "stdout",
     "text": [
      "Pier 69 / Alaskan Way & Clay St\n"
     ]
    }
   ],
   "source": [
    "# Good Output\n",
    "# 493 unique ID values\n",
    "most_common_checkout_station = df[\"from_station_name\"].mode()\n",
    "print(f'{most_common_checkout_station.values[0]}')\n"
   ]
  },
  {
   "source": [
    "8. How many days of rain did Seattle see 2014-2016?  (developer question)"
   ],
   "cell_type": "markdown",
   "metadata": {}
  },
  {
   "cell_type": "code",
   "execution_count": null,
   "metadata": {},
   "outputs": [],
   "source": [
    "# Not done yet\n",
    "rain_days = dfw[\"Events\"]\n",
    "if rain_days == \"Rain\":\n",
    "    count +=1\n",
    "print(f'{count} days')"
   ]
  }
 ]
}